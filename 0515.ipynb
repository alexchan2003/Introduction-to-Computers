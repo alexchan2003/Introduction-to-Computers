{
  "nbformat": 4,
  "nbformat_minor": 0,
  "metadata": {
    "colab": {
      "provenance": [],
      "authorship_tag": "ABX9TyNM6IAR06LA6kk6Xpo1sc/+",
      "include_colab_link": true
    },
    "kernelspec": {
      "name": "python3",
      "display_name": "Python 3"
    },
    "language_info": {
      "name": "python"
    }
  },
  "cells": [
    {
      "cell_type": "markdown",
      "metadata": {
        "id": "view-in-github",
        "colab_type": "text"
      },
      "source": [
        "<a href=\"https://colab.research.google.com/github/alexchan2003/Introduction-to-Computers/blob/main/0515.ipynb\" target=\"_parent\"><img src=\"https://colab.research.google.com/assets/colab-badge.svg\" alt=\"Open In Colab\"/></a>"
      ]
    },
    {
      "cell_type": "code",
      "execution_count": 1,
      "metadata": {
        "colab": {
          "base_uri": "https://localhost:8080/"
        },
        "id": "NRetLF9cRA_v",
        "outputId": "62133ce9-a373-4418-bb18-c23807bb85c8"
      },
      "outputs": [
        {
          "output_type": "stream",
          "name": "stdout",
          "text": [
            "hi\n"
          ]
        }
      ],
      "source": [
        "print('hi')"
      ]
    },
    {
      "cell_type": "code",
      "source": [
        "rain = (input(\"今天會不會下雨?\"))\n",
        "if rain == \"Y\" or rain == \"y\":\n",
        "  print('會')\n",
        "elif rain == \"N\" or rain == \"n\":\n",
        "  print('不會')\n",
        "else:\n",
        "  print('請重新輸入')"
      ],
      "metadata": {
        "colab": {
          "base_uri": "https://localhost:8080/"
        },
        "id": "qub3XYr5TF1W",
        "outputId": "1d089b7c-06b9-4e66-9eb5-5974e478bc5e"
      },
      "execution_count": 45,
      "outputs": [
        {
          "output_type": "stream",
          "name": "stdout",
          "text": [
            "今天會不會下雨?N\n",
            "不會\n"
          ]
        }
      ]
    },
    {
      "cell_type": "code",
      "source": [
        "C = float(input(\"體溫:\"))\n",
        "if C >= 37.5:\n",
        "  print('體溫過高!')\n",
        "elif C >=37 and C <= 37.4:\n",
        "  print('體溫略高!')\n",
        "elif C >= 34 and C <= 36.9:\n",
        "  print('體溫正常!')\n",
        "else:\n",
        "  print('體溫異常，請重新量測!')"
      ],
      "metadata": {
        "colab": {
          "base_uri": "https://localhost:8080/"
        },
        "id": "fInTezLgVV4H",
        "outputId": "18f4d7a8-a50d-4bc3-b715-b55993921b4a"
      },
      "execution_count": 29,
      "outputs": [
        {
          "output_type": "stream",
          "name": "stdout",
          "text": [
            "體溫:35\n",
            "體溫正常!\n"
          ]
        }
      ]
    },
    {
      "cell_type": "code",
      "source": [
        "score = int(input(\"請輸入成績:\"))\n",
        "if score >= 90:\n",
        "  print('A')\n",
        "elif score >= 80 and score <= 89:\n",
        "  print('B')\n",
        "elif score >= 70 and score <= 79:\n",
        "  print('C')\n",
        "elif score >= 60 and score <= 69:\n",
        "  print('D')\n",
        "else:\n",
        "  print('E')"
      ],
      "metadata": {
        "colab": {
          "base_uri": "https://localhost:8080/"
        },
        "id": "0C7yBbQUXcoQ",
        "outputId": "8a52b156-e688-4a7b-a595-c77475c6b4f4"
      },
      "execution_count": 33,
      "outputs": [
        {
          "output_type": "stream",
          "name": "stdout",
          "text": [
            "請輸入成績59\n",
            "E\n"
          ]
        }
      ]
    },
    {
      "cell_type": "code",
      "source": [
        "M = int(input(\"輸入月份:\"))\n",
        "if M == 3 or M == 4 or M == 5:\n",
        "  print(M,'月是春天!')\n",
        "elif M == 6 or M == 7 or M == 8:\n",
        "  print(M,'月是夏天!')\n",
        "elif M == 9 or M == 10 or M == 11:\n",
        "  print(M,'月是秋天!')\n",
        "elif M == 12 or M == 1 or M == 2:\n",
        "  print(M,'月是冬天!')\n",
        "else:\n",
        "  print('月份不在範圍內!')"
      ],
      "metadata": {
        "colab": {
          "base_uri": "https://localhost:8080/"
        },
        "id": "kUc0Os_wYJB0",
        "outputId": "d1251cd1-930c-4e3a-e7d3-e5aeb07cf845"
      },
      "execution_count": 43,
      "outputs": [
        {
          "output_type": "stream",
          "name": "stdout",
          "text": [
            "輸入月份:13\n",
            "月份不在範圍內!\n"
          ]
        }
      ]
    },
    {
      "cell_type": "code",
      "source": [
        "A = int(input(\"請輸入今年收入淨額:\"))\n",
        "if A >= 2000000:\n",
        "  print('付稅金額:',A*0.3,'元')\n",
        "elif A >= 1000000 and A <= 1999999:\n",
        "  print('付稅金額:',A*0.21,'元')\n",
        "elif A >= 600000 and A <= 999999:\n",
        "  print('付稅金額:',A*0.13,'元')\n",
        "elif A >= 300000 and A <= 599999:\n",
        "  print('付稅金額:',A*0.06,'元')\n",
        "else:\n",
        "  print('付稅金額:0元')"
      ],
      "metadata": {
        "colab": {
          "base_uri": "https://localhost:8080/"
        },
        "id": "CrNlaxxQZ6YR",
        "outputId": "be6f2778-dd9f-4b1a-c870-90a3d43ed543"
      },
      "execution_count": 47,
      "outputs": [
        {
          "output_type": "stream",
          "name": "stdout",
          "text": [
            "請輸入今年收入淨額:500000\n",
            "付稅金額: 30000.0 元\n"
          ]
        }
      ]
    }
  ]
}