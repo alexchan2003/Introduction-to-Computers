{
  "nbformat": 4,
  "nbformat_minor": 0,
  "metadata": {
    "colab": {
      "provenance": [],
      "authorship_tag": "ABX9TyOpzvKlOAPqh8fxoozIIuUz",
      "include_colab_link": true
    },
    "kernelspec": {
      "name": "python3",
      "display_name": "Python 3"
    },
    "language_info": {
      "name": "python"
    }
  },
  "cells": [
    {
      "cell_type": "markdown",
      "metadata": {
        "id": "view-in-github",
        "colab_type": "text"
      },
      "source": [
        "<a href=\"https://colab.research.google.com/github/alexchan2003/Introduction-to-Computers/blob/main/0501.ipynb\" target=\"_parent\"><img src=\"https://colab.research.google.com/assets/colab-badge.svg\" alt=\"Open In Colab\"/></a>"
      ]
    },
    {
      "cell_type": "code",
      "execution_count": 1,
      "metadata": {
        "colab": {
          "base_uri": "https://localhost:8080/"
        },
        "id": "3taROcNEKfiZ",
        "outputId": "07943b63-0425-4158-d76e-8178c93a1693"
      },
      "outputs": [
        {
          "output_type": "stream",
          "name": "stdout",
          "text": [
            "Hello World\n"
          ]
        }
      ],
      "source": [
        "print('Hello World')"
      ]
    },
    {
      "cell_type": "code",
      "source": [
        "a=int(input('請輸入你的金額:'))\n",
        "print('6年後的存款為:',a*(1.02**6))"
      ],
      "metadata": {
        "colab": {
          "base_uri": "https://localhost:8080/"
        },
        "id": "XNHXwWrFMxda",
        "outputId": "71b0c6a8-e0f1-4714-9ef7-a25dc317e249"
      },
      "execution_count": 5,
      "outputs": [
        {
          "output_type": "stream",
          "name": "stdout",
          "text": [
            "請輸入你的金額:10000\n",
            "6年後的存款為: 11261.62419264\n"
          ]
        }
      ]
    },
    {
      "cell_type": "code",
      "source": [
        "華氏溫度=F=int(input('華氏溫度為:'))\n",
        "攝氏溫度=C=(F-32)*5/9\n",
        "print(\"攝氏溫度為:\",'%.1f'%C)"
      ],
      "metadata": {
        "colab": {
          "base_uri": "https://localhost:8080/"
        },
        "id": "3jbuIi_YRoOw",
        "outputId": "6a4fb780-0b74-4ead-98f5-24b4f651dfb3"
      },
      "execution_count": 24,
      "outputs": [
        {
          "output_type": "stream",
          "name": "stdout",
          "text": [
            "華氏溫度為:100\n",
            "攝氏溫度為: 37.8\n"
          ]
        }
      ]
    },
    {
      "cell_type": "code",
      "source": [
        "a = 1      \n",
        "b = int(input('一個整數='))     \n",
        "s = 0                    \n",
        "for i in range(a,b+1):\n",
        "    s+= i                 \n",
        "print(s)"
      ],
      "metadata": {
        "colab": {
          "base_uri": "https://localhost:8080/"
        },
        "id": "UGrjvsttRThK",
        "outputId": "fbedbee7-d513-420f-a775-99dc24a33d90"
      },
      "execution_count": 19,
      "outputs": [
        {
          "output_type": "stream",
          "name": "stdout",
          "text": [
            "一個整數=5\n",
            "15\n"
          ]
        }
      ]
    }
  ]
}